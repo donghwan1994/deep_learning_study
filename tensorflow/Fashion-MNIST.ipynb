{
 "cells": [
  {
   "cell_type": "code",
   "execution_count": 1,
   "metadata": {},
   "outputs": [],
   "source": [
    "from __future__ import absolute_import\n",
    "from __future__ import division\n",
    "from __future__ import print_function"
   ]
  },
  {
   "cell_type": "code",
   "execution_count": 2,
   "metadata": {},
   "outputs": [
    {
     "name": "stdout",
     "output_type": "stream",
     "text": [
      "x_train shape: (60000, 28, 28) y_train shape: (60000,)\n"
     ]
    }
   ],
   "source": [
    "import tensorflow as tf\n",
    "from tensorflow.keras.utils import to_categorical\n",
    "\n",
    "import numpy as np\n",
    "import matplotlib.pyplot as plt\n",
    "\n",
    "# (학습 이미지, 학습 레이블), (테스트 이미지, 테스트 레이블)\n",
    "(x_train, y_train), (x_test, y_test) = tf.keras.datasets.fashion_mnist.load_data()\n",
    "\n",
    "print(\"x_train shape:\", x_train.shape, \"y_train shape:\", y_train.shape)"
   ]
  },
  {
   "cell_type": "code",
   "execution_count": 4,
   "metadata": {},
   "outputs": [
    {
     "name": "stdout",
     "output_type": "stream",
     "text": [
      "x_train shape: (60000, 28, 28, 1, 1) y_train shape: (60000, 10, 10)\n"
     ]
    }
   ],
   "source": [
    "x_train = x_train.astype('float32') / 255\n",
    "x_test = x_test.astype('float32') / 255\n",
    "\n",
    "x_train = np.expand_dims(x_train, axis=-1)\n",
    "x_test = np.expand_dims(x_test, axis=-1)\n",
    "\n",
    "y_train = to_categorical(y_train, 10)\n",
    "y_test = to_categorical(y_test, 10)    \n",
    "\n",
    "print(\"x_train shape:\", x_train.shape, \"y_train shape:\", y_train.shape)"
   ]
  },
  {
   "cell_type": "code",
   "execution_count": 18,
   "metadata": {},
   "outputs": [
    {
     "name": "stdout",
     "output_type": "stream",
     "text": [
      "_________________________________________________________________\n",
      "Layer (type)                 Output Shape              Param #   \n",
      "=================================================================\n",
      "conv2d_4 (Conv2D)            (None, 28, 28, 64)        320       \n",
      "_________________________________________________________________\n",
      "max_pooling2d_8 (MaxPooling2 (None, 14, 14, 64)        0         \n",
      "_________________________________________________________________\n",
      "dropout_12 (Dropout)         (None, 14, 14, 64)        0         \n",
      "_________________________________________________________________\n",
      "max_pooling2d_9 (MaxPooling2 (None, 7, 7, 64)          0         \n",
      "_________________________________________________________________\n",
      "dropout_13 (Dropout)         (None, 7, 7, 64)          0         \n",
      "_________________________________________________________________\n",
      "flatten_4 (Flatten)          (None, 3136)              0         \n",
      "_________________________________________________________________\n",
      "dense_8 (Dense)              (None, 256)               803072    \n",
      "_________________________________________________________________\n",
      "dropout_14 (Dropout)         (None, 256)               0         \n",
      "_________________________________________________________________\n",
      "dense_9 (Dense)              (None, 10)                2570      \n",
      "=================================================================\n",
      "Total params: 805,962\n",
      "Trainable params: 805,962\n",
      "Non-trainable params: 0\n",
      "_________________________________________________________________\n"
     ]
    }
   ],
   "source": [
    "model = tf.keras.Sequential()\n",
    "\n",
    "model.add(tf.keras.layers.Conv2D(filters=64, kernel_size=2, padding='same', activation='relu', input_shape=(28,28,1)))\n",
    "model.add(tf.keras.layers.MaxPooling2D(pool_size=2))\n",
    "model.add(tf.keras.layers.Dropout(0.3))\n",
    "\n",
    "model.add(tf.keras.layers.MaxPooling2D(pool_size=2))\n",
    "model.add(tf.keras.layers.Dropout(0.3))\n",
    "\n",
    "model.add(tf.keras.layers.Flatten()) # Flatten()은 이미지를 일차원으로 바꿔줍니다.\n",
    "model.add(tf.keras.layers.Dense(256, activation='relu'))\n",
    "model.add(tf.keras.layers.Dropout(0.4))\n",
    "model.add(tf.keras.layers.Dense(10, activation='softmax'))\n",
    "\n",
    "# model.summary()를 통해 모델을 살펴보세요.\n",
    "model.summary()"
   ]
  },
  {
   "cell_type": "code",
   "execution_count": 19,
   "metadata": {},
   "outputs": [],
   "source": [
    "model.compile(loss='categorical_crossentropy',\n",
    "             optimizer='adam',\n",
    "             metrics=['accuracy'])"
   ]
  },
  {
   "cell_type": "code",
   "execution_count": 20,
   "metadata": {},
   "outputs": [
    {
     "name": "stdout",
     "output_type": "stream",
     "text": [
      "Train on 60000 samples, validate on 10000 samples\n",
      "Epoch 1/20\n",
      "60000/60000 [==============================] - 8s 135us/step - loss: 0.5288 - acc: 0.8086 - val_loss: 0.3853 - val_acc: 0.8689\n",
      "Epoch 2/20\n",
      "60000/60000 [==============================] - 7s 123us/step - loss: 0.3771 - acc: 0.8652 - val_loss: 0.3432 - val_acc: 0.8824\n",
      "Epoch 3/20\n",
      "60000/60000 [==============================] - 7s 122us/step - loss: 0.3456 - acc: 0.8744 - val_loss: 0.3319 - val_acc: 0.8836\n",
      "Epoch 4/20\n",
      "60000/60000 [==============================] - 7s 122us/step - loss: 0.3256 - acc: 0.8804 - val_loss: 0.3151 - val_acc: 0.8907\n",
      "Epoch 5/20\n",
      "60000/60000 [==============================] - 8s 126us/step - loss: 0.3106 - acc: 0.8859 - val_loss: 0.3128 - val_acc: 0.8891\n",
      "Epoch 6/20\n",
      "60000/60000 [==============================] - 7s 122us/step - loss: 0.2955 - acc: 0.8928 - val_loss: 0.2871 - val_acc: 0.8963\n",
      "Epoch 7/20\n",
      "60000/60000 [==============================] - 7s 122us/step - loss: 0.2876 - acc: 0.8936 - val_loss: 0.2709 - val_acc: 0.9053\n",
      "Epoch 8/20\n",
      "60000/60000 [==============================] - 7s 122us/step - loss: 0.2797 - acc: 0.8965 - val_loss: 0.2750 - val_acc: 0.9041\n",
      "Epoch 9/20\n",
      "60000/60000 [==============================] - 7s 122us/step - loss: 0.2736 - acc: 0.8994 - val_loss: 0.2887 - val_acc: 0.8957\n",
      "Epoch 10/20\n",
      "60000/60000 [==============================] - 7s 122us/step - loss: 0.2674 - acc: 0.9018 - val_loss: 0.2723 - val_acc: 0.9002\n",
      "Epoch 11/20\n",
      "60000/60000 [==============================] - 7s 122us/step - loss: 0.2612 - acc: 0.9049 - val_loss: 0.2630 - val_acc: 0.9057\n",
      "Epoch 12/20\n",
      "60000/60000 [==============================] - 7s 122us/step - loss: 0.2568 - acc: 0.9050 - val_loss: 0.2744 - val_acc: 0.9049\n",
      "Epoch 13/20\n",
      "60000/60000 [==============================] - 7s 122us/step - loss: 0.2528 - acc: 0.9063 - val_loss: 0.2606 - val_acc: 0.9055\n",
      "Epoch 14/20\n",
      "60000/60000 [==============================] - 7s 122us/step - loss: 0.2452 - acc: 0.9091 - val_loss: 0.2591 - val_acc: 0.9098\n",
      "Epoch 15/20\n",
      "60000/60000 [==============================] - 7s 122us/step - loss: 0.2451 - acc: 0.9088 - val_loss: 0.2553 - val_acc: 0.9093\n",
      "Epoch 16/20\n",
      "60000/60000 [==============================] - 7s 122us/step - loss: 0.2391 - acc: 0.9114 - val_loss: 0.2514 - val_acc: 0.9096\n",
      "Epoch 17/20\n",
      "60000/60000 [==============================] - 7s 122us/step - loss: 0.2359 - acc: 0.9112 - val_loss: 0.2463 - val_acc: 0.9112\n",
      "Epoch 18/20\n",
      "60000/60000 [==============================] - 7s 125us/step - loss: 0.2334 - acc: 0.9142 - val_loss: 0.2564 - val_acc: 0.9112\n",
      "Epoch 19/20\n",
      "60000/60000 [==============================] - 7s 122us/step - loss: 0.2287 - acc: 0.9151 - val_loss: 0.2463 - val_acc: 0.9125\n",
      "Epoch 20/20\n",
      "60000/60000 [==============================] - 7s 122us/step - loss: 0.2275 - acc: 0.9155 - val_loss: 0.2426 - val_acc: 0.9132\n"
     ]
    },
    {
     "data": {
      "text/plain": [
       "<tensorflow.python.keras.callbacks.History at 0x132120d96a0>"
      ]
     },
     "execution_count": 20,
     "metadata": {},
     "output_type": "execute_result"
    }
   ],
   "source": [
    "model.fit(x_train,\n",
    "         y_train,\n",
    "         batch_size=64,\n",
    "         epochs=20,\n",
    "         validation_data=(x_test, y_test),\n",
    "         )"
   ]
  },
  {
   "cell_type": "code",
   "execution_count": 21,
   "metadata": {},
   "outputs": [
    {
     "name": "stdout",
     "output_type": "stream",
     "text": [
      "\n",
      " Test accuracy: 0.9132\n"
     ]
    }
   ],
   "source": [
    "# 테스트 셋으로 모델 평가\n",
    "score = model.evaluate(x_test, y_test, verbose=0)\n",
    "\n",
    "# 테스트 정확도\n",
    "print('\\n', 'Test accuracy:', score[1])"
   ]
  },
  {
   "cell_type": "code",
   "execution_count": null,
   "metadata": {},
   "outputs": [],
   "source": []
  },
  {
   "cell_type": "code",
   "execution_count": null,
   "metadata": {},
   "outputs": [],
   "source": []
  },
  {
   "cell_type": "code",
   "execution_count": null,
   "metadata": {},
   "outputs": [],
   "source": []
  },
  {
   "cell_type": "code",
   "execution_count": null,
   "metadata": {},
   "outputs": [],
   "source": []
  },
  {
   "cell_type": "code",
   "execution_count": null,
   "metadata": {},
   "outputs": [],
   "source": []
  }
 ],
 "metadata": {
  "kernelspec": {
   "display_name": "Python 3",
   "language": "python",
   "name": "python3"
  },
  "language_info": {
   "codemirror_mode": {
    "name": "ipython",
    "version": 3
   },
   "file_extension": ".py",
   "mimetype": "text/x-python",
   "name": "python",
   "nbconvert_exporter": "python",
   "pygments_lexer": "ipython3",
   "version": "3.6.8"
  }
 },
 "nbformat": 4,
 "nbformat_minor": 2
}
